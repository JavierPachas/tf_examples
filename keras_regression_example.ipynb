{
  "nbformat": 4,
  "nbformat_minor": 0,
  "metadata": {
    "colab": {
      "private_outputs": true,
      "provenance": [],
      "authorship_tag": "ABX9TyPXKSYwEcKlXJgEgUdcz4ih",
      "include_colab_link": true
    },
    "kernelspec": {
      "name": "python3",
      "display_name": "Python 3"
    },
    "language_info": {
      "name": "python"
    }
  },
  "cells": [
    {
      "cell_type": "markdown",
      "metadata": {
        "id": "view-in-github",
        "colab_type": "text"
      },
      "source": [
        "<a href=\"https://colab.research.google.com/github/JavierPachas/tf_examples/blob/main/keras_regression_example.ipynb\" target=\"_parent\"><img src=\"https://colab.research.google.com/assets/colab-badge.svg\" alt=\"Open In Colab\"/></a>"
      ]
    },
    {
      "cell_type": "code",
      "execution_count": null,
      "metadata": {
        "id": "rZThjoMq1bfY"
      },
      "outputs": [],
      "source": [
        "!pip install seaborn"
      ]
    },
    {
      "cell_type": "code",
      "source": [
        "from __future__ import absolute_import, division, print_function, unicode_literals\n",
        "import pathlib\n",
        "\n",
        "import matplotlib.pyplot as plt\n",
        "import pandas as pd\n",
        "import seaborn as sns\n",
        "\n",
        "try :\n",
        "  #tensorflow_version only exists in Colab\n",
        "  %tensorflow_version 2.x\n",
        "except Exception:\n",
        "  pass\n",
        "import tensorflow as tf\n",
        "\n",
        "from tensorflow import keras\n",
        "from tensorflow.keras import layers\n",
        "\n",
        "print(tf.__version__)"
      ],
      "metadata": {
        "id": "V1B2g0FX1iEi"
      },
      "execution_count": null,
      "outputs": []
    },
    {
      "cell_type": "code",
      "source": [
        "dataset_path = keras.utils.get_file(\"housing.data\",\"https://archive.ics.uci.edu/ml/machine-learning-databases/housing/housing.data\")"
      ],
      "metadata": {
        "id": "vNDRaw-b2iYP"
      },
      "execution_count": null,
      "outputs": []
    },
    {
      "cell_type": "code",
      "source": [
        "dataset_path"
      ],
      "metadata": {
        "id": "th-2ndAs3jA5"
      },
      "execution_count": null,
      "outputs": []
    },
    {
      "cell_type": "code",
      "source": [
        "column_names = ['CRIM',\"ZN\",\"INDUS\",\"CHAS\",\"NOX\",\"RM\",\"DIS\",\"RAD\",\"TAX\",'PTRATIO',\"B\",\"MEDV\"]"
      ],
      "metadata": {
        "id": "K-ajkIiX5Fa3"
      },
      "execution_count": null,
      "outputs": []
    },
    {
      "cell_type": "code",
      "source": [
        "raw_dataset = pd.read_csv(dataset_path, names = column_names,\n",
        "                          na_values = \"?\", comment = \"\\t\",\n",
        "                          sep =\" \", skipinitialspace=True)\n",
        "\n",
        "dataset = raw_dataset.copy()\n",
        "dataset.tail()"
      ],
      "metadata": {
        "id": "nGSYQ93n5WOp"
      },
      "execution_count": null,
      "outputs": []
    },
    {
      "cell_type": "code",
      "source": [
        "dataset.isna().sum()\n",
        "#dataset = datset.dropna()"
      ],
      "metadata": {
        "id": "r38iT5be6VSW"
      },
      "execution_count": null,
      "outputs": []
    },
    {
      "cell_type": "code",
      "source": [
        "train_dataset = dataset.sample(frac = 0.8, random_state = 0)\n",
        "test_dataset = dataset.drop(train_dataset.index)"
      ],
      "metadata": {
        "id": "E4kwafpl7Noq"
      },
      "execution_count": null,
      "outputs": []
    },
    {
      "cell_type": "code",
      "source": [
        "sns.pairplot(train_dataset[['CRIM','INDUS','TAX','MEDV']],\n",
        "             diag_kind = 'kde')"
      ],
      "metadata": {
        "id": "ja7fbuU17oVt"
      },
      "execution_count": null,
      "outputs": []
    },
    {
      "cell_type": "code",
      "source": [
        "train_stats = train_dataset.describe()\n",
        "train_stats.pop('MEDV')\n",
        "train_stats = train_stats.transpose()\n",
        "train_stats"
      ],
      "metadata": {
        "id": "uJnRzXSb8GvO"
      },
      "execution_count": null,
      "outputs": []
    },
    {
      "cell_type": "code",
      "source": [
        "train_labels = train_dataset.pop('MEDV')\n",
        "test_labels = test_dataset.pop('MEDV')"
      ],
      "metadata": {
        "id": "M9snWeht9rF3"
      },
      "execution_count": null,
      "outputs": []
    },
    {
      "cell_type": "code",
      "source": [
        "def norm(x):\n",
        "  return (x-train_stats['mean']) / train_stats['std']"
      ],
      "metadata": {
        "id": "hFru9NYCDawi"
      },
      "execution_count": null,
      "outputs": []
    },
    {
      "cell_type": "code",
      "source": [
        "normed_train_data = norm(train_dataset)\n",
        "normed_test_data = norm(test_dataset)"
      ],
      "metadata": {
        "id": "9bCLlLD5Dc1v"
      },
      "execution_count": null,
      "outputs": []
    },
    {
      "cell_type": "code",
      "source": [
        "normed_train_data.tail()"
      ],
      "metadata": {
        "id": "rkgMOfQ0EzrZ"
      },
      "execution_count": null,
      "outputs": []
    },
    {
      "cell_type": "code",
      "source": [
        "def build_model():\n",
        "  model = keras.Sequential([\n",
        "      layers.Dense(64, activation = 'relu',\n",
        "                   input_shape = [len(train_dataset.keys())]),\n",
        "      layers.Dense(64, activation = 'relu'),\n",
        "      layers.Dense(1)\n",
        "  ])\n",
        "\n",
        "  optimizer = tf.keras.optimizers.RMSprop(0.001)\n",
        "\n",
        "  model.compile(loss = 'mse',\n",
        "                optimizer = optimizer,\n",
        "                metrics = ['mae','mse'])\n",
        "\n",
        "  return model"
      ],
      "metadata": {
        "id": "kjv_c1S_E1Oy"
      },
      "execution_count": null,
      "outputs": []
    },
    {
      "cell_type": "code",
      "source": [
        "model = build_model()"
      ],
      "metadata": {
        "id": "wTNr4sRUJL17"
      },
      "execution_count": null,
      "outputs": []
    },
    {
      "cell_type": "code",
      "source": [
        "model.summary()"
      ],
      "metadata": {
        "id": "ij0pjspTJP__"
      },
      "execution_count": null,
      "outputs": []
    },
    {
      "cell_type": "markdown",
      "source": [
        "### Training a network"
      ],
      "metadata": {
        "id": "Y8KR9GS2KDPP"
      }
    },
    {
      "cell_type": "code",
      "source": [
        "example_batch = normed_train_data[:10]\n",
        "example_result = model.predict(example_batch)\n",
        "example_result"
      ],
      "metadata": {
        "id": "IlogSK9fJtqW"
      },
      "execution_count": null,
      "outputs": []
    },
    {
      "cell_type": "code",
      "source": [
        "class PrintDot(keras.callbacks.Callback):\n",
        "  def on_epoch_end(self, epoch, logs):\n",
        "    if epoch % 100 == 0: print('')\n",
        "    print('.', end = '')"
      ],
      "metadata": {
        "id": "2DfGtZkEKVxR"
      },
      "execution_count": null,
      "outputs": []
    },
    {
      "cell_type": "code",
      "source": [
        "EPOCHS = 10000"
      ],
      "metadata": {
        "id": "akQWd1TQLX18"
      },
      "execution_count": null,
      "outputs": []
    },
    {
      "cell_type": "code",
      "source": [
        "history = model.fit(\n",
        "    normed_train_data, train_labels,\n",
        "    epochs = EPOCHS, validation_split = 0.2, verbose = 0,\n",
        "    callbacks = [PrintDot()]\n",
        ")"
      ],
      "metadata": {
        "id": "7Prd8ReZLcGW"
      },
      "execution_count": null,
      "outputs": []
    },
    {
      "cell_type": "code",
      "source": [
        "#hist = pd.DataFrame(history.history)\n",
        "#hist['epoch'] = history.epoch\n",
        "#hist.tail()"
      ],
      "metadata": {
        "id": "CbHcF10PLxXT"
      },
      "execution_count": null,
      "outputs": []
    },
    {
      "cell_type": "code",
      "source": [
        "def plot_history(history):\n",
        "  hist = pd.DataFrame(history.history)\n",
        "  hist['epoch'] = history.epoch\n",
        "\n",
        "  plt.figure()\n",
        "  plt.xlabel('Epoch')\n",
        "  plt.ylabel('Mean Abs Error [MEDV]')\n",
        "  plt.plot(hist['epoch'], hist['mae'],\n",
        "           label ='Train Error')\n",
        "  plt.plot(hist['epoch'], hist['val_mae'],\n",
        "           label = 'Val Error')\n",
        "  plt.ylim([0,5])\n",
        "  plt.legend()\n",
        "\n",
        "  plt.figure()\n",
        "  plt.xlabel('Epoch')\n",
        "  plt.ylabel('Mean Squared Error [$MEDV^2$]')\n",
        "  plt.plot(hist['epoch'], hist['mse'],\n",
        "           label = 'Train Error')\n",
        "  plt.plot(hist['epoch'], hist['val_mse'],\n",
        "           label = 'Val Error')\n",
        "  plt.ylim([0,20])\n",
        "  plt.legend()\n",
        "\n",
        "  plt.show()\n",
        "\n"
      ],
      "metadata": {
        "id": "tZvIQr1gNMva"
      },
      "execution_count": null,
      "outputs": []
    },
    {
      "cell_type": "code",
      "source": [
        "plot_history(history)"
      ],
      "metadata": {
        "id": "SjeCkZwcPB5s"
      },
      "execution_count": null,
      "outputs": []
    }
  ]
}